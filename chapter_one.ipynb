{
 "cells": [
  {
   "cell_type": "code",
   "execution_count": 1,
   "id": "d2efb126-5128-4940-bc9b-08cc95b492da",
   "metadata": {},
   "outputs": [],
   "source": [
    "import torch\n",
    "import pandas as pd\n",
    "import numpy as np \n",
    "import matplotlib.pyplot as plt"
   ]
  },
  {
   "cell_type": "markdown",
   "id": "5875cf50-a4a6-458d-8a7d-ebd067ab4071",
   "metadata": {},
   "source": [
    "# Tensors"
   ]
  },
  {
   "cell_type": "markdown",
   "id": "d93b6310-d158-4e9b-8ae6-c9a508a951c8",
   "metadata": {},
   "source": [
    "## Scalar"
   ]
  },
  {
   "cell_type": "code",
   "execution_count": 2,
   "id": "0b98a8e5-d1ef-474c-8ed2-ab1bc5195c56",
   "metadata": {},
   "outputs": [
    {
     "data": {
      "text/plain": [
       "tensor(7)"
      ]
     },
     "execution_count": 2,
     "metadata": {},
     "output_type": "execute_result"
    }
   ],
   "source": [
    "scalar = torch.tensor(7)\n",
    "scalar\n"
   ]
  },
  {
   "cell_type": "code",
   "execution_count": 3,
   "id": "4851fece-9bb7-40f9-8989-7eeaa8a32f72",
   "metadata": {},
   "outputs": [
    {
     "data": {
      "text/plain": [
       "(0, torch.Size([]))"
      ]
     },
     "execution_count": 3,
     "metadata": {},
     "output_type": "execute_result"
    }
   ],
   "source": [
    "scalar.ndim, scalar.shape"
   ]
  },
  {
   "cell_type": "markdown",
   "id": "e1ed329d-2d73-4647-a503-fedb946dea91",
   "metadata": {},
   "source": [
    "## Vector"
   ]
  },
  {
   "cell_type": "code",
   "execution_count": 4,
   "id": "03e63ebe-ccf1-499b-b42d-7da191c36f4f",
   "metadata": {},
   "outputs": [
    {
     "data": {
      "text/plain": [
       "tensor([7, 7])"
      ]
     },
     "execution_count": 4,
     "metadata": {},
     "output_type": "execute_result"
    }
   ],
   "source": [
    "vector = torch.tensor([7,7])\n",
    "vector"
   ]
  },
  {
   "cell_type": "code",
   "execution_count": 5,
   "id": "fd13f1af-0621-4af6-a962-200642720101",
   "metadata": {},
   "outputs": [
    {
     "data": {
      "text/plain": [
       "(1, torch.Size([2]))"
      ]
     },
     "execution_count": 5,
     "metadata": {},
     "output_type": "execute_result"
    }
   ],
   "source": [
    "vector.ndim, vector.shape"
   ]
  },
  {
   "cell_type": "markdown",
   "id": "66bfda2e-2354-4d00-bb4a-d3caa731a3f8",
   "metadata": {},
   "source": [
    "## MATRIX "
   ]
  },
  {
   "cell_type": "code",
   "execution_count": 6,
   "id": "7b4f08fc-2381-4801-8ae1-1f3727452be2",
   "metadata": {},
   "outputs": [],
   "source": [
    "MATRIX = torch.tensor([[7,8],[9,10]])"
   ]
  },
  {
   "cell_type": "code",
   "execution_count": 7,
   "id": "0b076498-401b-4c7f-ab05-f9bd562bb44e",
   "metadata": {},
   "outputs": [
    {
     "data": {
      "text/plain": [
       "(2, torch.Size([2, 2]), tensor([ 9, 10]))"
      ]
     },
     "execution_count": 7,
     "metadata": {},
     "output_type": "execute_result"
    }
   ],
   "source": [
    "MATRIX.ndim, MATRIX.shape, MATRIX[1]"
   ]
  },
  {
   "cell_type": "markdown",
   "id": "b14f2843-11ff-418c-9eea-c4139c1d24d1",
   "metadata": {},
   "source": [
    "## TENSOR"
   ]
  },
  {
   "cell_type": "code",
   "execution_count": 8,
   "id": "a1758ad2-3d9b-41c3-a7a1-15e82e925727",
   "metadata": {},
   "outputs": [],
   "source": [
    "TENSOR = torch.tensor([[[1,2,3],[4,5,6],[7,8,9]]])"
   ]
  },
  {
   "cell_type": "code",
   "execution_count": 9,
   "id": "ff2ef391-19e1-43ab-9a09-384d8a4353dc",
   "metadata": {},
   "outputs": [
    {
     "data": {
      "text/plain": [
       "(3,\n",
       " torch.Size([1, 3, 3]),\n",
       " tensor([[1, 2, 3],\n",
       "         [4, 5, 6],\n",
       "         [7, 8, 9]]))"
      ]
     },
     "execution_count": 9,
     "metadata": {},
     "output_type": "execute_result"
    }
   ],
   "source": [
    "TENSOR.ndim, TENSOR.shape, TENSOR[0]"
   ]
  },
  {
   "cell_type": "markdown",
   "id": "660786c2-55ba-4aaa-b00c-7791bfa46e75",
   "metadata": {},
   "source": [
    "## Random Tensors"
   ]
  },
  {
   "cell_type": "code",
   "execution_count": 12,
   "id": "b0d6b7b6-d1f8-4070-a2ac-c6cad639aa7d",
   "metadata": {},
   "outputs": [
    {
     "data": {
      "text/plain": [
       "tensor([[0.5584, 0.4969, 0.1818, 0.3186],\n",
       "        [0.8550, 0.6341, 0.8922, 0.9434],\n",
       "        [0.4377, 0.6196, 0.1235, 0.8625]])"
      ]
     },
     "execution_count": 12,
     "metadata": {},
     "output_type": "execute_result"
    }
   ],
   "source": [
    "# they are importan for starting neural networks with randome numbers and start. \n",
    "rand_tensor = torch.rand(3,4)\n",
    "rand_tensor"
   ]
  },
  {
   "cell_type": "code",
   "execution_count": 14,
   "id": "b8c213aa-c61b-4df1-a580-59816f1cd62a",
   "metadata": {},
   "outputs": [
    {
     "data": {
      "text/plain": [
       "(2, torch.Size([3, 4]), tensor([0.5584, 0.4969, 0.1818, 0.3186]))"
      ]
     },
     "execution_count": 14,
     "metadata": {},
     "output_type": "execute_result"
    }
   ],
   "source": [
    "rand_tensor.ndim, rand_tensor.shape, rand_tensor[0]"
   ]
  },
  {
   "cell_type": "code",
   "execution_count": 15,
   "id": "585d63c2",
   "metadata": {},
   "outputs": [
    {
     "data": {
      "text/plain": [
       "(torch.Size([224, 224, 3]), 3)"
      ]
     },
     "execution_count": 15,
     "metadata": {},
     "output_type": "execute_result"
    }
   ],
   "source": [
    "random_img_size_tensor = torch.rand(224,224,3) # height, width, color channels (RGB)\n",
    "random_img_size_tensor.shape, random_img_size_tensor.ndim"
   ]
  },
  {
   "cell_type": "markdown",
   "id": "25873cea",
   "metadata": {},
   "source": [
    "## Zeros and Ones"
   ]
  },
  {
   "cell_type": "code",
   "execution_count": 17,
   "id": "e67975e1",
   "metadata": {},
   "outputs": [
    {
     "data": {
      "text/plain": [
       "tensor([[0., 0., 0., 0.],\n",
       "        [0., 0., 0., 0.],\n",
       "        [0., 0., 0., 0.]])"
      ]
     },
     "execution_count": 17,
     "metadata": {},
     "output_type": "execute_result"
    }
   ],
   "source": [
    "zeros = torch.zeros(size=(3,4))\n",
    "zeros\n"
   ]
  },
  {
   "cell_type": "code",
   "execution_count": 18,
   "id": "06d3788a",
   "metadata": {},
   "outputs": [
    {
     "data": {
      "text/plain": [
       "tensor([[1., 1., 1., 1.],\n",
       "        [1., 1., 1., 1.],\n",
       "        [1., 1., 1., 1.]])"
      ]
     },
     "execution_count": 18,
     "metadata": {},
     "output_type": "execute_result"
    }
   ],
   "source": [
    "ones = torch.ones(size=(3,4))\n",
    "ones\n"
   ]
  },
  {
   "cell_type": "markdown",
   "id": "bde008e5",
   "metadata": {},
   "source": [
    "## Creating a range of tensors and tensors like"
   ]
  },
  {
   "cell_type": "code",
   "execution_count": 22,
   "id": "b66f9ff8",
   "metadata": {},
   "outputs": [
    {
     "data": {
      "text/plain": [
       "tensor([ 1,  2,  3,  4,  5,  6,  7,  8,  9, 10])"
      ]
     },
     "execution_count": 22,
     "metadata": {},
     "output_type": "execute_result"
    }
   ],
   "source": [
    "one_to_ten = torch.arange(start=1, end=11, step=1)\n",
    "one_to_ten"
   ]
  },
  {
   "cell_type": "code",
   "execution_count": 26,
   "id": "c99e3bff",
   "metadata": {},
   "outputs": [
    {
     "data": {
      "text/plain": [
       "tensor([0, 0, 0, 0, 0, 0, 0, 0, 0, 0])"
      ]
     },
     "execution_count": 26,
     "metadata": {},
     "output_type": "execute_result"
    }
   ],
   "source": [
    "#creating tensors like\n",
    "ten_zeros = torch.zeros_like(input=one_to_ten)\n",
    "ten_zeros"
   ]
  },
  {
   "cell_type": "markdown",
   "id": "ff7bd31b",
   "metadata": {},
   "source": [
    "## Tensor datatypes"
   ]
  },
  {
   "cell_type": "code",
   "execution_count": null,
   "id": "2e5a48db",
   "metadata": {},
   "outputs": [
    {
     "data": {
      "text/plain": [
       "torch.float32"
      ]
     },
     "execution_count": 28,
     "metadata": {},
     "output_type": "execute_result"
    }
   ],
   "source": [
    "float_32_tensor = torch.tensor([3.0,6.0,9.0], \n",
    "                               dtype=torch.float32, # what datatype is your tensor\n",
    "                               device=None, # what device is your tensor on? CPU or GPU\n",
    "                               requires_grad=False) # does it need gradient for autograd\n",
    "float_32_tensor.dtype"
   ]
  },
  {
   "cell_type": "code",
   "execution_count": 32,
   "id": "05e1e920",
   "metadata": {},
   "outputs": [
    {
     "data": {
      "text/plain": [
       "tensor([3., 6., 9.], dtype=torch.float16)"
      ]
     },
     "execution_count": 32,
     "metadata": {},
     "output_type": "execute_result"
    }
   ],
   "source": [
    "float_16_tensor = float_32_tensor.type(torch.float16)\n",
    "float_16_tensor"
   ]
  },
  {
   "cell_type": "code",
   "execution_count": 33,
   "id": "eb917ad1",
   "metadata": {},
   "outputs": [
    {
     "data": {
      "text/plain": [
       "tensor([ 6., 12., 18.])"
      ]
     },
     "execution_count": 33,
     "metadata": {},
     "output_type": "execute_result"
    }
   ],
   "source": [
    "float_32_tensor + float_16_tensor"
   ]
  },
  {
   "cell_type": "code",
   "execution_count": 35,
   "id": "38dee1b4",
   "metadata": {},
   "outputs": [
    {
     "data": {
      "text/plain": [
       "tensor([3, 6, 9], dtype=torch.int32)"
      ]
     },
     "execution_count": 35,
     "metadata": {},
     "output_type": "execute_result"
    }
   ],
   "source": [
    "int_32_tensor = torch.tensor([3,6,9], \n",
    "                               dtype=torch.int32, # what datatype is your tensor\n",
    "                               device=None, # what device is your tensor on? CPU or GPU\n",
    "                               requires_grad=False) # does it need gradient for autograd\n",
    "\n",
    "int_32_tensor"
   ]
  },
  {
   "cell_type": "code",
   "execution_count": 38,
   "id": "16587b40",
   "metadata": {},
   "outputs": [
    {
     "data": {
      "text/plain": [
       "(torch.int32, device(type='cpu'), False)"
      ]
     },
     "execution_count": 38,
     "metadata": {},
     "output_type": "execute_result"
    }
   ],
   "source": [
    "int_32_tensor.dtype, int_32_tensor.device, int_32_tensor.requires_grad"
   ]
  },
  {
   "cell_type": "markdown",
   "id": "6c0f4767",
   "metadata": {},
   "source": [
    "## ADD, SUBSTRACT, MULTIPLY, DIVIDE"
   ]
  },
  {
   "cell_type": "code",
   "execution_count": 47,
   "id": "ba1bbec1",
   "metadata": {},
   "outputs": [
    {
     "data": {
      "text/plain": [
       "tensor([[11, 12, 13],\n",
       "        [11, 12, 13],\n",
       "        [11, 12, 13]])"
      ]
     },
     "execution_count": 47,
     "metadata": {},
     "output_type": "execute_result"
    }
   ],
   "source": [
    "tensor1 = torch.tensor([1,2,3])\n",
    "tensor2 = torch.tensor([[10,10,10],[10,10,10],[10,10,10]])\n",
    "tensor1 + tensor2"
   ]
  },
  {
   "cell_type": "code",
   "execution_count": 48,
   "id": "5b72df1c",
   "metadata": {},
   "outputs": [
    {
     "data": {
      "text/plain": [
       "tensor([[-9, -8, -7],\n",
       "        [-9, -8, -7],\n",
       "        [-9, -8, -7]])"
      ]
     },
     "execution_count": 48,
     "metadata": {},
     "output_type": "execute_result"
    }
   ],
   "source": [
    "tensor1 - tensor2"
   ]
  },
  {
   "cell_type": "code",
   "execution_count": 50,
   "id": "c6b74042",
   "metadata": {},
   "outputs": [
    {
     "data": {
      "text/plain": [
       "tensor([[10, 20, 30],\n",
       "        [10, 20, 30],\n",
       "        [10, 20, 30]])"
      ]
     },
     "execution_count": 50,
     "metadata": {},
     "output_type": "execute_result"
    }
   ],
   "source": [
    "tensor1 * tensor2"
   ]
  },
  {
   "cell_type": "code",
   "execution_count": 51,
   "id": "a7ca010f",
   "metadata": {},
   "outputs": [
    {
     "data": {
      "text/plain": [
       "tensor([[0.1000, 0.2000, 0.3000],\n",
       "        [0.1000, 0.2000, 0.3000],\n",
       "        [0.1000, 0.2000, 0.3000]])"
      ]
     },
     "execution_count": 51,
     "metadata": {},
     "output_type": "execute_result"
    }
   ],
   "source": [
    "tensor1 / tensor2"
   ]
  },
  {
   "cell_type": "code",
   "execution_count": 52,
   "id": "3c82ac91",
   "metadata": {},
   "outputs": [
    {
     "data": {
      "text/plain": [
       "tensor([60, 60, 60])"
      ]
     },
     "execution_count": 52,
     "metadata": {},
     "output_type": "execute_result"
    }
   ],
   "source": [
    "torch.matmul(tensor1, tensor2) # T is transpose"
   ]
  },
  {
   "cell_type": "code",
   "execution_count": 56,
   "id": "b3e11645",
   "metadata": {},
   "outputs": [
    {
     "data": {
      "text/plain": [
       "tensor([[ 76, 103],\n",
       "        [100, 136]])"
      ]
     },
     "execution_count": 56,
     "metadata": {},
     "output_type": "execute_result"
    }
   ],
   "source": [
    "tensor_a = torch.tensor([[1,2],\n",
    "                         [3,4],\n",
    "                         [5,6]])\n",
    "\n",
    "tensor_b = torch.tensor([[7,10],\n",
    "                         [8,11],\n",
    "                         [9,12]])\n",
    "\n",
    "torch.matmul(tensor_a.T, tensor_b)"
   ]
  },
  {
   "cell_type": "code",
   "execution_count": 55,
   "id": "af0c28c1",
   "metadata": {},
   "outputs": [
    {
     "data": {
      "text/plain": [
       "tensor([[1, 3, 5],\n",
       "        [2, 4, 6]])"
      ]
     },
     "execution_count": 55,
     "metadata": {},
     "output_type": "execute_result"
    }
   ],
   "source": [
    "tensor_a.T"
   ]
  },
  {
   "cell_type": "code",
   "execution_count": null,
   "id": "2fa467c3",
   "metadata": {},
   "outputs": [],
   "source": []
  },
  {
   "cell_type": "markdown",
   "id": "0c3da6e2",
   "metadata": {},
   "source": [
    "## Finding the min, max, mean, sum etc(tensor, agg)"
   ]
  },
  {
   "cell_type": "code",
   "execution_count": 62,
   "id": "5af1673d",
   "metadata": {},
   "outputs": [
    {
     "data": {
      "text/plain": [
       "tensor([ 0, 10, 20, 30, 40, 50, 60, 70, 80, 90])"
      ]
     },
     "execution_count": 62,
     "metadata": {},
     "output_type": "execute_result"
    }
   ],
   "source": [
    "x = torch.arange(0,100,10)\n",
    "x"
   ]
  },
  {
   "cell_type": "code",
   "execution_count": null,
   "id": "05f24d35",
   "metadata": {},
   "outputs": [
    {
     "data": {
      "text/plain": [
       "(tensor(0),\n",
       " tensor(90),\n",
       " tensor(45.),\n",
       " tensor(450),\n",
       " tensor(30.2765),\n",
       " tensor(916.6667))"
      ]
     },
     "execution_count": 60,
     "metadata": {},
     "output_type": "execute_result"
    }
   ],
   "source": [
    "torch.min(x), torch.max(x), torch.mean(x.float()), torch.sum(x), torch.std(x.float()), torch.var(x.float()) "
   ]
  },
  {
   "cell_type": "code",
   "execution_count": 63,
   "id": "1cd528f9",
   "metadata": {},
   "outputs": [
    {
     "data": {
      "text/plain": [
       "(tensor(0), tensor(9))"
      ]
     },
     "execution_count": 63,
     "metadata": {},
     "output_type": "execute_result"
    }
   ],
   "source": [
    "x.argmin(), x.argmax()"
   ]
  },
  {
   "cell_type": "markdown",
   "id": "63f306eb",
   "metadata": {},
   "source": [
    "## Reshaping, stacking, squeezing, and unsqueezing tensors."
   ]
  },
  {
   "cell_type": "code",
   "execution_count": 110,
   "id": "50c06b61",
   "metadata": {},
   "outputs": [],
   "source": [
    "x=torch.arange(1,10)"
   ]
  },
  {
   "cell_type": "code",
   "execution_count": 111,
   "id": "468bde55",
   "metadata": {},
   "outputs": [
    {
     "data": {
      "text/plain": [
       "tensor([[1, 2, 3, 4, 5, 6, 7, 8, 9]])"
      ]
     },
     "execution_count": 111,
     "metadata": {},
     "output_type": "execute_result"
    }
   ],
   "source": [
    "# add dimenstion\n",
    "x_reshaped = x.reshape(1,9)\n",
    "x_reshaped"
   ]
  },
  {
   "cell_type": "code",
   "execution_count": 71,
   "id": "15681733",
   "metadata": {},
   "outputs": [
    {
     "data": {
      "text/plain": [
       "tensor([[1, 2, 3],\n",
       "        [4, 5, 6],\n",
       "        [7, 8, 9]])"
      ]
     },
     "execution_count": 71,
     "metadata": {},
     "output_type": "execute_result"
    }
   ],
   "source": [
    "x_reshaped = x.reshape(3,3)\n",
    "x_reshaped"
   ]
  },
  {
   "cell_type": "code",
   "execution_count": 72,
   "id": "830f744a",
   "metadata": {},
   "outputs": [],
   "source": [
    "x=torch.arange(1,11)"
   ]
  },
  {
   "cell_type": "code",
   "execution_count": 73,
   "id": "229b4766",
   "metadata": {},
   "outputs": [
    {
     "data": {
      "text/plain": [
       "tensor([[ 1,  2,  3,  4,  5],\n",
       "        [ 6,  7,  8,  9, 10]])"
      ]
     },
     "execution_count": 73,
     "metadata": {},
     "output_type": "execute_result"
    }
   ],
   "source": [
    "x_reshaped = x.reshape(2,5)\n",
    "x_reshaped"
   ]
  },
  {
   "cell_type": "code",
   "execution_count": 92,
   "id": "86aeca07",
   "metadata": {},
   "outputs": [
    {
     "data": {
      "text/plain": [
       "(tensor([[1, 2, 3, 4, 5, 6, 7, 8, 9]]), tensor([1, 2, 3, 4, 5, 6, 7, 8, 9]))"
      ]
     },
     "execution_count": 92,
     "metadata": {},
     "output_type": "execute_result"
    }
   ],
   "source": [
    "# change the view\n",
    "z = x.view(1,9)\n",
    "z[0,0] = 1\n",
    "z,x\n"
   ]
  },
  {
   "cell_type": "code",
   "execution_count": 94,
   "id": "0f68a4a7",
   "metadata": {},
   "outputs": [
    {
     "data": {
      "text/plain": [
       "tensor([[1, 1, 1, 1],\n",
       "        [2, 2, 2, 2],\n",
       "        [3, 3, 3, 3],\n",
       "        [4, 4, 4, 4],\n",
       "        [5, 5, 5, 5],\n",
       "        [6, 6, 6, 6],\n",
       "        [7, 7, 7, 7],\n",
       "        [8, 8, 8, 8],\n",
       "        [9, 9, 9, 9]])"
      ]
     },
     "execution_count": 94,
     "metadata": {},
     "output_type": "execute_result"
    }
   ],
   "source": [
    "x_stacked = torch.stack([x,x,x,x], dim=1)\n",
    "x_stacked"
   ]
  },
  {
   "cell_type": "code",
   "execution_count": 113,
   "id": "ff8bd1bd",
   "metadata": {},
   "outputs": [
    {
     "name": "stdout",
     "output_type": "stream",
     "text": [
      "torch.Size([1, 9])\n",
      "torch.Size([9])\n"
     ]
    }
   ],
   "source": [
    "print(x_reshaped.shape)\n",
    "x_squeezed = x_reshaped.squeeze()\n",
    "print(x_squeezed.shape)"
   ]
  },
  {
   "cell_type": "code",
   "execution_count": 105,
   "id": "7c1cb84e",
   "metadata": {},
   "outputs": [
    {
     "data": {
      "text/plain": [
       "tensor([[[ 1,  2,  3,  4,  5]],\n",
       "\n",
       "        [[ 6,  7,  8,  9, 10]]])"
      ]
     },
     "execution_count": 105,
     "metadata": {},
     "output_type": "execute_result"
    }
   ],
   "source": [
    "torch.unsqueeze(x_reshaped,1)"
   ]
  },
  {
   "cell_type": "code",
   "execution_count": null,
   "id": "6a067117",
   "metadata": {},
   "outputs": [],
   "source": []
  }
 ],
 "metadata": {
  "kernelspec": {
   "display_name": ".venv",
   "language": "python",
   "name": "python3"
  },
  "language_info": {
   "codemirror_mode": {
    "name": "ipython",
    "version": 3
   },
   "file_extension": ".py",
   "mimetype": "text/x-python",
   "name": "python",
   "nbconvert_exporter": "python",
   "pygments_lexer": "ipython3",
   "version": "3.12.4"
  }
 },
 "nbformat": 4,
 "nbformat_minor": 5
}
